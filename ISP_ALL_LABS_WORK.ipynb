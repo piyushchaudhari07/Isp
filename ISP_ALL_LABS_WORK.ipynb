{
  "nbformat": 4,
  "nbformat_minor": 0,
  "metadata": {
    "colab": {
      "provenance": []
    },
    "kernelspec": {
      "name": "python3",
      "display_name": "Python 3"
    },
    "language_info": {
      "name": "python"
    }
  },
  "cells": [
    {
      "cell_type": "code",
      "execution_count": 4,
      "metadata": {
        "colab": {
          "base_uri": "https://localhost:8080/"
        },
        "id": "ri-02hBgLZhm",
        "outputId": "3ebdc679-caa1-4b5a-b42e-df1cba94cd17"
      },
      "outputs": [
        {
          "output_type": "stream",
          "name": "stdout",
          "text": [
            "('apple', 'banana', 'cherry')\n",
            "('apple', 'banana', 'cherry')\n",
            "('apple', 'banana', 'cherry')\n"
          ]
        }
      ],
      "source": [
        "fruits = (\"apple\",\"banana\",\"cherry\")\n",
        "newlist = []\n",
        "for i in fruits:\n",
        "  print(mylist) "
      ]
    },
    {
      "cell_type": "code",
      "source": [
        "message = \"Attack at the dawn\"\n",
        "keyword = \"Star War\"\n",
        "ciphertext = \"\""
      ],
      "metadata": {
        "id": "E0hrb-55MAco"
      },
      "execution_count": 5,
      "outputs": []
    },
    {
      "cell_type": "code",
      "source": [
        "all_alphabets = []\n",
        "for i in range(65,91):\n",
        "  all_alphabets.append(chr(i))\n",
        "print(all_alphabets)"
      ],
      "metadata": {
        "colab": {
          "base_uri": "https://localhost:8080/"
        },
        "id": "xHrT-CqMMAaK",
        "outputId": "ec9193ee-765c-4b4b-c470-b1da12aec722"
      },
      "execution_count": 6,
      "outputs": [
        {
          "output_type": "stream",
          "name": "stdout",
          "text": [
            "['A', 'B', 'C', 'D', 'E', 'F', 'G', 'H', 'I', 'J', 'K', 'L', 'M', 'N', 'O', 'P', 'Q', 'R', 'S', 'T', 'U', 'V', 'W', 'X', 'Y', 'Z']\n"
          ]
        }
      ]
    },
    {
      "cell_type": "code",
      "source": [
        "msg = []\n",
        "for i in message:\n",
        "    msg.append(i.upper())    \n",
        "# A B C D E F G H I J K L M N O P Q R S T U V W X Y Z\n",
        "# S T A R B C D E F G H I J K L M N O P Q U V W X Y Z    \n",
        "print(msg)"
      ],
      "metadata": {
        "colab": {
          "base_uri": "https://localhost:8080/"
        },
        "id": "-_-Ndjp4MAXw",
        "outputId": "354212b8-3c6f-423a-e69b-b7cfadfd48bd"
      },
      "execution_count": 7,
      "outputs": [
        {
          "output_type": "stream",
          "name": "stdout",
          "text": [
            "['A', 'T', 'T', 'A', 'C', 'K', ' ', 'A', 'T', ' ', 'T', 'H', 'E', ' ', 'D', 'A', 'W', 'N']\n"
          ]
        }
      ]
    },
    {
      "cell_type": "code",
      "source": [
        "from sklearn.datasets import fetch_california_housing\n",
        "california_housing = fetch_california_housing(as_frame = True)\n",
        "california_housing.frame.to_csv('housing.csv', index= False)\n",
        "california_housing"
      ],
      "metadata": {
        "colab": {
          "base_uri": "https://localhost:8080/"
        },
        "id": "NMo8pjiqMAVi",
        "outputId": "530f23a9-b1f2-4a2b-954c-dff3bbb4302e"
      },
      "execution_count": 8,
      "outputs": [
        {
          "output_type": "execute_result",
          "data": {
            "text/plain": [
              "{'data':        MedInc  HouseAge  AveRooms  AveBedrms  Population  AveOccup  Latitude  \\\n",
              " 0      8.3252      41.0  6.984127   1.023810       322.0  2.555556     37.88   \n",
              " 1      8.3014      21.0  6.238137   0.971880      2401.0  2.109842     37.86   \n",
              " 2      7.2574      52.0  8.288136   1.073446       496.0  2.802260     37.85   \n",
              " 3      5.6431      52.0  5.817352   1.073059       558.0  2.547945     37.85   \n",
              " 4      3.8462      52.0  6.281853   1.081081       565.0  2.181467     37.85   \n",
              " ...       ...       ...       ...        ...         ...       ...       ...   \n",
              " 20635  1.5603      25.0  5.045455   1.133333       845.0  2.560606     39.48   \n",
              " 20636  2.5568      18.0  6.114035   1.315789       356.0  3.122807     39.49   \n",
              " 20637  1.7000      17.0  5.205543   1.120092      1007.0  2.325635     39.43   \n",
              " 20638  1.8672      18.0  5.329513   1.171920       741.0  2.123209     39.43   \n",
              " 20639  2.3886      16.0  5.254717   1.162264      1387.0  2.616981     39.37   \n",
              " \n",
              "        Longitude  \n",
              " 0        -122.23  \n",
              " 1        -122.22  \n",
              " 2        -122.24  \n",
              " 3        -122.25  \n",
              " 4        -122.25  \n",
              " ...          ...  \n",
              " 20635    -121.09  \n",
              " 20636    -121.21  \n",
              " 20637    -121.22  \n",
              " 20638    -121.32  \n",
              " 20639    -121.24  \n",
              " \n",
              " [20640 rows x 8 columns], 'target': 0        4.526\n",
              " 1        3.585\n",
              " 2        3.521\n",
              " 3        3.413\n",
              " 4        3.422\n",
              "          ...  \n",
              " 20635    0.781\n",
              " 20636    0.771\n",
              " 20637    0.923\n",
              " 20638    0.847\n",
              " 20639    0.894\n",
              " Name: MedHouseVal, Length: 20640, dtype: float64, 'frame':        MedInc  HouseAge  AveRooms  AveBedrms  Population  AveOccup  Latitude  \\\n",
              " 0      8.3252      41.0  6.984127   1.023810       322.0  2.555556     37.88   \n",
              " 1      8.3014      21.0  6.238137   0.971880      2401.0  2.109842     37.86   \n",
              " 2      7.2574      52.0  8.288136   1.073446       496.0  2.802260     37.85   \n",
              " 3      5.6431      52.0  5.817352   1.073059       558.0  2.547945     37.85   \n",
              " 4      3.8462      52.0  6.281853   1.081081       565.0  2.181467     37.85   \n",
              " ...       ...       ...       ...        ...         ...       ...       ...   \n",
              " 20635  1.5603      25.0  5.045455   1.133333       845.0  2.560606     39.48   \n",
              " 20636  2.5568      18.0  6.114035   1.315789       356.0  3.122807     39.49   \n",
              " 20637  1.7000      17.0  5.205543   1.120092      1007.0  2.325635     39.43   \n",
              " 20638  1.8672      18.0  5.329513   1.171920       741.0  2.123209     39.43   \n",
              " 20639  2.3886      16.0  5.254717   1.162264      1387.0  2.616981     39.37   \n",
              " \n",
              "        Longitude  MedHouseVal  \n",
              " 0        -122.23        4.526  \n",
              " 1        -122.22        3.585  \n",
              " 2        -122.24        3.521  \n",
              " 3        -122.25        3.413  \n",
              " 4        -122.25        3.422  \n",
              " ...          ...          ...  \n",
              " 20635    -121.09        0.781  \n",
              " 20636    -121.21        0.771  \n",
              " 20637    -121.22        0.923  \n",
              " 20638    -121.32        0.847  \n",
              " 20639    -121.24        0.894  \n",
              " \n",
              " [20640 rows x 9 columns], 'target_names': ['MedHouseVal'], 'feature_names': ['MedInc',\n",
              "  'HouseAge',\n",
              "  'AveRooms',\n",
              "  'AveBedrms',\n",
              "  'Population',\n",
              "  'AveOccup',\n",
              "  'Latitude',\n",
              "  'Longitude'], 'DESCR': '.. _california_housing_dataset:\\n\\nCalifornia Housing dataset\\n--------------------------\\n\\n**Data Set Characteristics:**\\n\\n    :Number of Instances: 20640\\n\\n    :Number of Attributes: 8 numeric, predictive attributes and the target\\n\\n    :Attribute Information:\\n        - MedInc        median income in block group\\n        - HouseAge      median house age in block group\\n        - AveRooms      average number of rooms per household\\n        - AveBedrms     average number of bedrooms per household\\n        - Population    block group population\\n        - AveOccup      average number of household members\\n        - Latitude      block group latitude\\n        - Longitude     block group longitude\\n\\n    :Missing Attribute Values: None\\n\\nThis dataset was obtained from the StatLib repository.\\nhttps://www.dcc.fc.up.pt/~ltorgo/Regression/cal_housing.html\\n\\nThe target variable is the median house value for California districts,\\nexpressed in hundreds of thousands of dollars ($100,000).\\n\\nThis dataset was derived from the 1990 U.S. census, using one row per census\\nblock group. A block group is the smallest geographical unit for which the U.S.\\nCensus Bureau publishes sample data (a block group typically has a population\\nof 600 to 3,000 people).\\n\\nAn household is a group of people residing within a home. Since the average\\nnumber of rooms and bedrooms in this dataset are provided per household, these\\ncolumns may take surpinsingly large values for block groups with few households\\nand many empty houses, such as vacation resorts.\\n\\nIt can be downloaded/loaded using the\\n:func:`sklearn.datasets.fetch_california_housing` function.\\n\\n.. topic:: References\\n\\n    - Pace, R. Kelley and Ronald Barry, Sparse Spatial Autoregressions,\\n      Statistics and Probability Letters, 33 (1997) 291-297\\n'}"
            ]
          },
          "metadata": {},
          "execution_count": 8
        }
      ]
    },
    {
      "cell_type": "code",
      "source": [
        "num=int(input(\"ENTER A num: \"))\n",
        "if num>0:\n",
        " print(\"The numis positive\")\n",
        "elif num==0:\n",
        "    print(\"The num is 0\")\n",
        "else:\n",
        "    print(\"The num is negative\")"
      ],
      "metadata": {
        "colab": {
          "base_uri": "https://localhost:8080/"
        },
        "id": "se8rMTDyMKch",
        "outputId": "c0179d5f-a4ee-4cb2-bbef-7adffb9cee4c"
      },
      "execution_count": 11,
      "outputs": [
        {
          "output_type": "stream",
          "name": "stdout",
          "text": [
            "ENTER A NUMBER : 122\n",
            "The number is positive\n"
          ]
        }
      ]
    },
    {
      "cell_type": "code",
      "source": [
        "a=int(input(\"Enter a num: \"))\n",
        "b=int(input(\"Enter a second num: \"))\n",
        "sum=a+b\n",
        "print(sum)\n"
      ],
      "metadata": {
        "colab": {
          "base_uri": "https://localhost:8080/"
        },
        "id": "3NbWSdVaMKZ5",
        "outputId": "f14ae0bf-e9c6-43c7-c0a6-d0279c846bdf"
      },
      "execution_count": 12,
      "outputs": [
        {
          "output_type": "stream",
          "name": "stdout",
          "text": [
            "Enter a number: 10\n",
            "Enter a second number: 20\n",
            "30\n"
          ]
        }
      ]
    },
    {
      "cell_type": "code",
      "source": [
        "def encrypt_func(txt, s):  \n",
        "    result = \"\"  \n",
        " \n",
        "    for i in range(len(txt)):  \n",
        "        char = txt[i]  \n",
        "        if (char.isupper()):  \n",
        "            result += chr((ord(char) + s - 65) % 26 + 65)  \n",
        "\n",
        "        else:  \n",
        "            result += chr((ord(char) + s - 97) % 26 + 97)  \n",
        "    return result    \n",
        "txt = str(input(\"Enter a str: \")) \n",
        "s = int(input(\"Enter num to shift: \"))  \n",
        "  \n",
        "print(\"Plain txt : \" + txt)  \n",
        "print(\"Shift patterns : \" + str(s))  \n",
        "print(\"Ciphers: \" + encrypt_func(txt, s))"
      ],
      "metadata": {
        "colab": {
          "base_uri": "https://localhost:8080/"
        },
        "id": "osW7Ll3DMKXS",
        "outputId": "96cc4a64-183c-4b7f-a118-139f6ca66047"
      },
      "execution_count": 3,
      "outputs": [
        {
          "output_type": "stream",
          "name": "stdout",
          "text": [
            "Enter a str: piyush\n",
            "Enter num to shift: 12\n",
            "Plain txt : piyush\n",
            "Shift patterns : 12\n",
            "Ciphers: bukget\n"
          ]
        }
      ]
    },
    {
      "cell_type": "code",
      "source": [
        "def decrypt_func(txt, s):  \n",
        "    result = \"\"  \n",
        " \n",
        "    for i in range(len(txt)):  \n",
        "        char = txt[i]  \n",
        "        if (char.isupper()):  \n",
        "            result += chr((ord(char) - s - 65) % 26 + 65)  \n",
        "\n",
        "        else:  \n",
        "            result += chr((ord(char) - s - 97) % 26 + 97)  \n",
        "    return result    \n",
        "txt = str(input(\"Enter a string: \")) \n",
        "s = int(input(\"Enter num to shift: \"))  \n",
        "  \n",
        "print(\"Plain txt : \" + txt)  \n",
        "print(\"Shift patterns : \" + str(s))  \n",
        "print(\"Ciphers: \" + decrypt_func(txt, s))"
      ],
      "metadata": {
        "colab": {
          "base_uri": "https://localhost:8080/"
        },
        "id": "GHzQxHGcMKT2",
        "outputId": "dbac9f0b-752f-435c-d80a-14993c3e2a16"
      },
      "execution_count": 5,
      "outputs": [
        {
          "output_type": "stream",
          "name": "stdout",
          "text": [
            "Enter a string: piyush\n",
            "Enter num to shift: 12\n",
            "Plain txt : piyush\n",
            "Shift patterns : 12\n",
            "Ciphers: dwmigv\n"
          ]
        }
      ]
    },
    {
      "cell_type": "markdown",
      "source": [
        "VERNAM CIPHER\n"
      ],
      "metadata": {
        "id": "i6KFguNbOQtt"
      }
    },
    {
      "cell_type": "code",
      "source": [
        "plain_text=input(\"ENTER THE MESSAGE: \")\n",
        "key=input(\"Enter the one time password: \")\n",
        "cipher_text=''\n",
        "plain_text=plain_text.replace(\" \",\"\")\n",
        "key=key.replace(\" \",\"\")\n",
        "plain_text=plain_text.lower()\n",
        "key=key.lower()\n",
        "if(len(plain_text)!=len(key)):\n",
        "  print(\"Lengths are different.\")\n",
        "else:\n",
        "  print(\"Length equal.\")\n",
        "cipher_text=\"\"\n",
        "for i in range(len(plain_text)):\n",
        "  k1=ord(plain_text[i])-97\n",
        "  k2=ord(key[i])-97 \n",
        "  s=chr((k1+k2)%26+97)\n",
        "  cipher_text+=s\n",
        "print(\"Encrypted message is: \",cipher_text)"
      ],
      "metadata": {
        "colab": {
          "base_uri": "https://localhost:8080/"
        },
        "id": "My0nwdEcObOY",
        "outputId": "638c3fa4-0a4f-457b-a777-d6afd6036cd6"
      },
      "execution_count": 6,
      "outputs": [
        {
          "output_type": "stream",
          "name": "stdout",
          "text": [
            "ENTER THE MESSAGE: hi\n",
            "Enter the one time password: 123456789\n",
            "Lengths are different.\n",
            "Encrypted message is:  ln\n"
          ]
        }
      ]
    },
    {
      "cell_type": "code",
      "source": [
        "plain_text=input(\"ENTER THE MESSAGE: \")\n",
        "key=input(\"Enter the one time password: \")\n",
        "cipher_text=''\n",
        "plain_text=plain_text.replace(\" \",\"\")\n",
        "key=key.replace(\" \",\"\")\n",
        "plain_text=plain_text.lower()\n",
        "key=key.lower()\n",
        "if(len(plain_text)!=len(key)):\n",
        "  print(\"Lengths are different.\")\n",
        "else:\n",
        "  print(\"Length equal.\")\n",
        "cipher_text=\"\"\n",
        "for i in range(len(plain_text)):\n",
        "  k1=ord(plain_text[i])-97\n",
        "  k2=ord(key[i])-97 \n",
        "  s=chr((k1-k2)%26+97)\n",
        "  cipher_text+=s\n",
        "print(\"Decrypted message is: \",cipher_text)"
      ],
      "metadata": {
        "colab": {
          "base_uri": "https://localhost:8080/"
        },
        "id": "1exk4Se-Om0R",
        "outputId": "012956c0-09d5-4a66-de94-d1563f2574ab"
      },
      "execution_count": 8,
      "outputs": [
        {
          "output_type": "stream",
          "name": "stdout",
          "text": [
            "ENTER THE MESSAGE: piyush\n",
            "Enter the one time password: 123456\n",
            "Length equal.\n",
            "Decrypted message is:  ldsnky\n"
          ]
        }
      ]
    },
    {
      "cell_type": "markdown",
      "source": [
        "DEFFIE Hellman\n"
      ],
      "metadata": {
        "id": "Mn8fJDv0OygO"
      }
    },
    {
      "cell_type": "code",
      "source": [
        "print(\"Both parties agree to a single prime\")\n",
        "prime=int(input(\"Enter the prime number to be considered: \"))\n",
        "#Primitive root to be used \n",
        "print(\"Both must agree with single primitive root to use.\")\n",
        "root=int(input(\"Enter the primitive root: \"))\n",
        "\n",
        "#Party1 choses a secret number\n",
        "alice=int(input(\"Enter a secret number: \"))\n",
        "#Party2 choses a secret number\n",
        "bob=int(input(\"Enter a secret number: \"))\n",
        "\n",
        "print(\"Party 1's public key is: A=root^alice*mod(prime)\")\n",
        "alicepublic=(root**alice)%prime\n",
        "print(\"Party1's public key is: \",alicepublic)\n",
        "\n",
        "\n",
        "print(\"Party 2's public key is: B=root^bob*mod(prime)\")\n",
        "bobpublic=(root**bob)%prime\n",
        "print(\"Party2's public key is: \", bobpublic)\n",
        "\n",
        "print(\"Party1 calculates the shared key as K=B^alice*(mod(prime))\")\n",
        "alicekey=(bobpublic**alice)%prime\n",
        "print(\"Party1 calculates the shared key and results: \", alicekey)\n",
        "\n",
        "print(\"Party1 calculates the shared key as K=A^bob*(mod(prime))\")\n",
        "bobkey=(alicepublic**bob)%prime\n",
        "print(\"Party1 calculates the shared key and results: \",bobkey)"
      ],
      "metadata": {
        "colab": {
          "base_uri": "https://localhost:8080/"
        },
        "id": "DvEWqunrOxlb",
        "outputId": "f02602e3-e022-46bf-b77f-7212c73ef572"
      },
      "execution_count": 9,
      "outputs": [
        {
          "output_type": "stream",
          "name": "stdout",
          "text": [
            "Both parties agree to a single prime\n",
            "Enter the prime number to be considered: 15\n",
            "Both must agree with single primitive root to use.\n",
            "Enter the primitive root: 16\n",
            "Enter a secret number: 56\n",
            "Enter a secret number: 65\n",
            "Party 1's public key is: A=root^alice*mod(prime)\n",
            "Party1's public key is:  1\n",
            "Party 2's public key is: B=root^bob*mod(prime)\n",
            "Party2's public key is:  1\n",
            "Party1 calculates the shared key as K=B^alice*(mod(prime))\n",
            "Party1 calculates the shared key and results:  1\n",
            "Party1 calculates the shared key as K=A^bob*(mod(prime))\n",
            "Party1 calculates the shared key and results:  1\n"
          ]
        }
      ]
    },
    {
      "cell_type": "code",
      "source": [
        "pt = \"GEEKSFORGEEKS\"\n",
        "keyword = \"MAYUR\"\n",
        "def gk(string,key):\n",
        "  key = list(key)\n",
        "  if len(key) == len(string):\n",
        "    return key\n",
        "  else:\n",
        "    for i in range(len(string)-len(key)):\n",
        "      key.append(key[i%len(key)])\n",
        "  return \"\".join(key)\n",
        "\n",
        "gk(pt,keyword)"
      ],
      "metadata": {
        "colab": {
          "base_uri": "https://localhost:8080/",
          "height": 36
        },
        "id": "lT4hfj4mPDaM",
        "outputId": "193c1b70-4c0d-49f5-b8da-da634fdd1952"
      },
      "execution_count": 10,
      "outputs": [
        {
          "output_type": "execute_result",
          "data": {
            "text/plain": [
              "'MAYURMAYURMAY'"
            ],
            "application/vnd.google.colaboratory.intrinsic+json": {
              "type": "string"
            }
          },
          "metadata": {},
          "execution_count": 10
        }
      ]
    },
    {
      "cell_type": "code",
      "source": [
        "def en(pt,key):\n",
        "  ct = []\n",
        "  for i in range(len(pt)):\n",
        "    x = (ord(pt[i])+ord(key[i]))%26 + 65\n",
        "    ct.append(chr(x))\n",
        "  return \"\".join(ct)\n",
        "\n",
        "print(\"OG TEXT : GEEKSFORGEEKS\")\n",
        "print(\"KEYWORD: \",gk(pt,keyword))\n",
        "keyword = gk(pt,keyword) #  GENERATING THE KEYWORD OF PROPER LENGTH \n",
        "print(\"CIPHER TEXT \",en(pt,keyword))"
      ],
      "metadata": {
        "colab": {
          "base_uri": "https://localhost:8080/"
        },
        "id": "qC1BM9JMPGSD",
        "outputId": "4f972f74-e75d-49a5-9c78-6ab32b608193"
      },
      "execution_count": 11,
      "outputs": [
        {
          "output_type": "stream",
          "name": "stdout",
          "text": [
            "OG TEXT: GEEKSFORGEEKS\n",
            "KEYWORD:  MAYURMAYURMAY\n",
            "CIPHER TEXT  SECEJROPAVQKQ\n"
          ]
        }
      ]
    },
    {
      "cell_type": "code",
      "source": [
        "def dec(ct,key):\n",
        "  pt = []\n",
        "  for i in range(len(ct)):\n",
        "    \n",
        "    y = (ord(ct[i])-ord(key[i]))%26 + 65\n",
        "    pt.append(chr(y))\n",
        "  return \"\".join(pt)  \n",
        "\n",
        "print(\"CIPHER TEXT \", en(pt,keyword))\n",
        "print(\"OG KEY \",gk(pt,keyword))\n",
        "ct = \"SECEJROPAVQKQ\"\n",
        "\n",
        "print(\"PLAIN TEXT \",dec(ct,keyword))"
      ],
      "metadata": {
        "colab": {
          "base_uri": "https://localhost:8080/"
        },
        "id": "m4H0eVAaPJIk",
        "outputId": "a18e57c5-6081-4d50-bdb2-b9c28e8729a7"
      },
      "execution_count": 12,
      "outputs": [
        {
          "output_type": "stream",
          "name": "stdout",
          "text": [
            "CIPHER TEXT  SECEJROPAVQKQ\n",
            "OG KEY  ['M', 'A', 'Y', 'U', 'R', 'M', 'A', 'Y', 'U', 'R', 'M', 'A', 'Y']\n",
            "PLAIN TEXT  GEEKSFORGEEKS\n"
          ]
        }
      ]
    }
  ]
}